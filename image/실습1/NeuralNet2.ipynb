{
 "cells": [
  {
   "cell_type": "code",
   "execution_count": 1,
   "id": "figured-cartoon",
   "metadata": {},
   "outputs": [],
   "source": [
    "import pandas as pd\n",
    "import numpy as np\n",
    "from tensorflow import keras\n",
    "import matplotlib.pyplot as plt"
   ]
  },
  {
   "cell_type": "code",
   "execution_count": 2,
   "id": "asian-samuel",
   "metadata": {},
   "outputs": [],
   "source": [
    "#데이터 불러오기\n",
    "train_df = pd.read_csv(\"./data/train.csv\")\n",
    "test_df = pd.read_csv(\"./data/test.csv\")"
   ]
  },
  {
   "cell_type": "code",
   "execution_count": 3,
   "id": "promising-religious",
   "metadata": {},
   "outputs": [
    {
     "name": "stdout",
     "output_type": "stream",
     "text": [
      "(60000, 786)\n",
      "(10000, 785)\n"
     ]
    }
   ],
   "source": [
    "print(train_df.shape)\n",
    "print(test_df.shape)"
   ]
  },
  {
   "cell_type": "code",
   "execution_count": 7,
   "id": "excellent-delta",
   "metadata": {
    "scrolled": true
   },
   "outputs": [
    {
     "name": "stdout",
     "output_type": "stream",
     "text": [
      "<class 'pandas.core.frame.DataFrame'>\n",
      "RangeIndex: 60000 entries, 0 to 59999\n",
      "Data columns (total 30 columns):\n",
      " #   Column   Non-Null Count  Dtype\n",
      "---  ------   --------------  -----\n",
      " 0   index    60000 non-null  int64\n",
      " 1   label    60000 non-null  int64\n",
      " 2   pixel1   60000 non-null  int64\n",
      " 3   pixel2   60000 non-null  int64\n",
      " 4   pixel3   60000 non-null  int64\n",
      " 5   pixel4   60000 non-null  int64\n",
      " 6   pixel5   60000 non-null  int64\n",
      " 7   pixel6   60000 non-null  int64\n",
      " 8   pixel7   60000 non-null  int64\n",
      " 9   pixel8   60000 non-null  int64\n",
      " 10  pixel9   60000 non-null  int64\n",
      " 11  pixel10  60000 non-null  int64\n",
      " 12  pixel11  60000 non-null  int64\n",
      " 13  pixel12  60000 non-null  int64\n",
      " 14  pixel13  60000 non-null  int64\n",
      " 15  pixel14  60000 non-null  int64\n",
      " 16  pixel15  60000 non-null  int64\n",
      " 17  pixel16  60000 non-null  int64\n",
      " 18  pixel17  60000 non-null  int64\n",
      " 19  pixel18  60000 non-null  int64\n",
      " 20  pixel19  60000 non-null  int64\n",
      " 21  pixel20  60000 non-null  int64\n",
      " 22  pixel21  60000 non-null  int64\n",
      " 23  pixel22  60000 non-null  int64\n",
      " 24  pixel23  60000 non-null  int64\n",
      " 25  pixel24  60000 non-null  int64\n",
      " 26  pixel25  60000 non-null  int64\n",
      " 27  pixel26  60000 non-null  int64\n",
      " 28  pixel27  60000 non-null  int64\n",
      " 29  pixel28  60000 non-null  int64\n",
      "dtypes: int64(30)\n",
      "memory usage: 13.7 MB\n"
     ]
    }
   ],
   "source": [
    "train_df.iloc[:,:30].info()"
   ]
  },
  {
   "cell_type": "code",
   "execution_count": 9,
   "id": "several-congo",
   "metadata": {},
   "outputs": [],
   "source": [
    "# 학습에 사용하려면 float 형태로 바꾼다.\n",
    "train_data = np.array(train_df.iloc[:,1:],dtype='float32')\n",
    "test_data = np.array(test_df.iloc[:,1:],dtype='float32')"
   ]
  },
  {
   "cell_type": "code",
   "execution_count": 10,
   "id": "dress-sacrifice",
   "metadata": {},
   "outputs": [
    {
     "data": {
      "text/plain": [
       "array([[2., 0., 0., ..., 0., 0., 0.],\n",
       "       [9., 0., 0., ..., 0., 0., 0.],\n",
       "       [6., 0., 0., ..., 0., 0., 0.],\n",
       "       ...,\n",
       "       [8., 0., 0., ..., 0., 0., 0.],\n",
       "       [8., 0., 0., ..., 0., 0., 0.],\n",
       "       [7., 0., 0., ..., 0., 0., 0.]], dtype=float32)"
      ]
     },
     "execution_count": 10,
     "metadata": {},
     "output_type": "execute_result"
    }
   ],
   "source": [
    "train_data"
   ]
  },
  {
   "cell_type": "code",
   "execution_count": 11,
   "id": "intermediate-greek",
   "metadata": {},
   "outputs": [],
   "source": [
    "x_train = train_data[:,1:]\n",
    "y_train = train_data[:,0] #라벨\n",
    "\n",
    "x_test = test_data"
   ]
  },
  {
   "cell_type": "code",
   "execution_count": 13,
   "id": "tested-radio",
   "metadata": {},
   "outputs": [
    {
     "name": "stdout",
     "output_type": "stream",
     "text": [
      "(48000, 784) (12000, 784)\n"
     ]
    }
   ],
   "source": [
    "# validation set 두기 (정확한 평가, 파라미터 변경)\n",
    "from sklearn.model_selection import train_test_split\n",
    "\n",
    "x_train,x_validate,y_train,y_validate = train_test_split(x_train,y_train,test_size=0.2,random_state=12345)\n",
    "\n",
    "print(x_train.shape,x_validate.shape)\n",
    "\n",
    "# 데이터 분할"
   ]
  },
  {
   "cell_type": "code",
   "execution_count": 44,
   "id": "reflected-tsunami",
   "metadata": {},
   "outputs": [],
   "source": [
    "#모델 구축\n",
    "from keras.models import Sequential\n",
    "from keras.layers import Dense,Activation,BatchNormalization,Dropout\n",
    "nn_model = Sequential([\n",
    "    Dense(784),\n",
    "    BatchNormalization(),\n",
    "    Activation('relu'),\n",
    "    Dropout(0.2),\n",
    "    Dense(362),\n",
    "    BatchNormalization(),\n",
    "    Activation('relu'),\n",
    "    Dropout(0.2),\n",
    "    Dense(362),\n",
    "    BatchNormalization(),\n",
    "    Activation('relu'),\n",
    "    Dense(182),\n",
    "    Dense(10,activation='softmax'),\n",
    "])\n"
   ]
  },
  {
   "cell_type": "code",
   "execution_count": 45,
   "id": "becoming-bottom",
   "metadata": {},
   "outputs": [],
   "source": [
    "#loss , optimizer\n",
    "#compile: 우리가 만든 모델에서 어떻게 weight를 최적화 할지 결정해주는 함수\n",
    "from keras.optimizers import Adam #optimizer\n",
    "nn_model.compile(loss='sparse_categorical_crossentropy',optimizer=Adam(learning_rate=0.001),metrics=['accuracy'] )\n",
    "#metrics(평가산식): 학습 과정에서 얼마나 맞추는지 계산해주는 식. accuracy= 맞춘 수 / 전체 수 \n",
    "#50000/60000\n",
    "\n",
    "#모델 10개의 백터, label : 0,1,2,3,4,5,6,7,8,9\n"
   ]
  },
  {
   "cell_type": "code",
   "execution_count": 46,
   "id": "cubic-equivalent",
   "metadata": {},
   "outputs": [
    {
     "name": "stdout",
     "output_type": "stream",
     "text": [
      "Epoch 1/10\n",
      "1500/1500 [==============================] - 14s 9ms/step - loss: 0.5660 - accuracy: 0.8003 - val_loss: 0.5425 - val_accuracy: 0.8148\n",
      "Epoch 2/10\n",
      "1500/1500 [==============================] - 13s 9ms/step - loss: 0.4333 - accuracy: 0.8435 - val_loss: 0.3827 - val_accuracy: 0.8595\n",
      "Epoch 3/10\n",
      "1500/1500 [==============================] - 13s 9ms/step - loss: 0.3926 - accuracy: 0.8572 - val_loss: 0.3552 - val_accuracy: 0.8666\n",
      "Epoch 4/10\n",
      "1500/1500 [==============================] - 13s 9ms/step - loss: 0.3640 - accuracy: 0.8665 - val_loss: 0.3567 - val_accuracy: 0.8733\n",
      "Epoch 5/10\n",
      "1500/1500 [==============================] - 13s 9ms/step - loss: 0.3426 - accuracy: 0.8738 - val_loss: 0.3082 - val_accuracy: 0.8834\n",
      "Epoch 6/10\n",
      "1500/1500 [==============================] - 13s 9ms/step - loss: 0.3285 - accuracy: 0.8776 - val_loss: 0.3200 - val_accuracy: 0.8873\n",
      "Epoch 7/10\n",
      "1500/1500 [==============================] - 16s 11ms/step - loss: 0.3103 - accuracy: 0.8861 - val_loss: 0.3236 - val_accuracy: 0.8808\n",
      "Epoch 8/10\n",
      "1500/1500 [==============================] - 18s 12ms/step - loss: 0.3002 - accuracy: 0.8886 - val_loss: 0.3092 - val_accuracy: 0.8854\n",
      "Epoch 9/10\n",
      "1500/1500 [==============================] - 19s 13ms/step - loss: 0.2854 - accuracy: 0.8938 - val_loss: 0.3192 - val_accuracy: 0.8866\n",
      "Epoch 10/10\n",
      "1500/1500 [==============================] - 17s 12ms/step - loss: 0.2709 - accuracy: 0.9002 - val_loss: 0.3005 - val_accuracy: 0.8910\n"
     ]
    },
    {
     "data": {
      "text/plain": [
       "<keras.callbacks.History at 0x20069474610>"
      ]
     },
     "execution_count": 46,
     "metadata": {},
     "output_type": "execute_result"
    }
   ],
   "source": [
    "nn_model.fit(\n",
    "    x_train,\n",
    "    y_train,\n",
    "    batch_size=32,\n",
    "    epochs=40,\n",
    "    verbose=1,\n",
    "    validation_data=(x_validate,y_validate),\n",
    ")"
   ]
  },
  {
   "cell_type": "code",
   "execution_count": 47,
   "id": "potential-religious",
   "metadata": {},
   "outputs": [
    {
     "name": "stdout",
     "output_type": "stream",
     "text": [
      "313/313 [==============================] - 1s 3ms/step\n"
     ]
    }
   ],
   "source": [
    "y_pred = nn_model.predict(x_test)"
   ]
  },
  {
   "cell_type": "code",
   "execution_count": 48,
   "id": "stainless-specification",
   "metadata": {},
   "outputs": [
    {
     "data": {
      "text/plain": [
       "(10000, 10)"
      ]
     },
     "execution_count": 48,
     "metadata": {},
     "output_type": "execute_result"
    }
   ],
   "source": [
    "y_pred.shape "
   ]
  },
  {
   "cell_type": "code",
   "execution_count": 49,
   "id": "natural-kennedy",
   "metadata": {},
   "outputs": [
    {
     "data": {
      "text/plain": [
       "array([[7.29952455e-01, 1.04123765e-05, 2.12622043e-02, ...,\n",
       "        1.19016076e-05, 1.00704667e-03, 1.98554062e-05],\n",
       "       [9.40800977e-16, 1.00000000e+00, 3.21380811e-17, ...,\n",
       "        6.12076608e-23, 5.83777556e-17, 1.01841786e-21],\n",
       "       [8.11943132e-03, 3.69917252e-05, 8.59976828e-01, ...,\n",
       "        4.90929851e-05, 1.35359936e-04, 2.92128952e-05],\n",
       "       ...,\n",
       "       [1.80452076e-09, 2.47474437e-12, 6.02349892e-10, ...,\n",
       "        1.32146063e-12, 1.00000000e+00, 1.01471912e-12],\n",
       "       [2.20861193e-02, 1.45277636e-05, 3.54356575e-03, ...,\n",
       "        4.69724691e-05, 8.28306913e-01, 9.01799503e-05],\n",
       "       [2.03658380e-02, 2.61795431e-01, 4.18362647e-01, ...,\n",
       "        1.46816322e-03, 1.99081413e-02, 1.04056939e-03]], dtype=float32)"
      ]
     },
     "execution_count": 49,
     "metadata": {},
     "output_type": "execute_result"
    }
   ],
   "source": [
    "y_pred"
   ]
  },
  {
   "cell_type": "code",
   "execution_count": 50,
   "id": "taken-jaguar",
   "metadata": {},
   "outputs": [],
   "source": [
    "submission = pd.read_csv(\"./data/sample_submission.csv\")\n",
    "submission['label'] = y_pred.argmax(axis=1)\n",
    "submission.to_csv(\"fashion_submission.csv\",index=False)\n",
    "# pycaret 87%"
   ]
  },
  {
   "cell_type": "code",
   "execution_count": 51,
   "id": "literary-flight",
   "metadata": {},
   "outputs": [
    {
     "data": {
      "text/html": [
       "<div>\n",
       "<style scoped>\n",
       "    .dataframe tbody tr th:only-of-type {\n",
       "        vertical-align: middle;\n",
       "    }\n",
       "\n",
       "    .dataframe tbody tr th {\n",
       "        vertical-align: top;\n",
       "    }\n",
       "\n",
       "    .dataframe thead th {\n",
       "        text-align: right;\n",
       "    }\n",
       "</style>\n",
       "<table border=\"1\" class=\"dataframe\">\n",
       "  <thead>\n",
       "    <tr style=\"text-align: right;\">\n",
       "      <th></th>\n",
       "      <th>index</th>\n",
       "      <th>label</th>\n",
       "    </tr>\n",
       "  </thead>\n",
       "  <tbody>\n",
       "    <tr>\n",
       "      <th>0</th>\n",
       "      <td>0</td>\n",
       "      <td>0</td>\n",
       "    </tr>\n",
       "    <tr>\n",
       "      <th>1</th>\n",
       "      <td>1</td>\n",
       "      <td>1</td>\n",
       "    </tr>\n",
       "    <tr>\n",
       "      <th>2</th>\n",
       "      <td>2</td>\n",
       "      <td>2</td>\n",
       "    </tr>\n",
       "    <tr>\n",
       "      <th>3</th>\n",
       "      <td>3</td>\n",
       "      <td>2</td>\n",
       "    </tr>\n",
       "    <tr>\n",
       "      <th>4</th>\n",
       "      <td>4</td>\n",
       "      <td>3</td>\n",
       "    </tr>\n",
       "    <tr>\n",
       "      <th>...</th>\n",
       "      <td>...</td>\n",
       "      <td>...</td>\n",
       "    </tr>\n",
       "    <tr>\n",
       "      <th>9995</th>\n",
       "      <td>9995</td>\n",
       "      <td>0</td>\n",
       "    </tr>\n",
       "    <tr>\n",
       "      <th>9996</th>\n",
       "      <td>9996</td>\n",
       "      <td>6</td>\n",
       "    </tr>\n",
       "    <tr>\n",
       "      <th>9997</th>\n",
       "      <td>9997</td>\n",
       "      <td>8</td>\n",
       "    </tr>\n",
       "    <tr>\n",
       "      <th>9998</th>\n",
       "      <td>9998</td>\n",
       "      <td>8</td>\n",
       "    </tr>\n",
       "    <tr>\n",
       "      <th>9999</th>\n",
       "      <td>9999</td>\n",
       "      <td>2</td>\n",
       "    </tr>\n",
       "  </tbody>\n",
       "</table>\n",
       "<p>10000 rows × 2 columns</p>\n",
       "</div>"
      ],
      "text/plain": [
       "      index  label\n",
       "0         0      0\n",
       "1         1      1\n",
       "2         2      2\n",
       "3         3      2\n",
       "4         4      3\n",
       "...     ...    ...\n",
       "9995   9995      0\n",
       "9996   9996      6\n",
       "9997   9997      8\n",
       "9998   9998      8\n",
       "9999   9999      2\n",
       "\n",
       "[10000 rows x 2 columns]"
      ]
     },
     "execution_count": 51,
     "metadata": {},
     "output_type": "execute_result"
    }
   ],
   "source": [
    "submission"
   ]
  },
  {
   "cell_type": "code",
   "execution_count": null,
   "id": "guided-phoenix",
   "metadata": {},
   "outputs": [],
   "source": []
  }
 ],
 "metadata": {
  "kernelspec": {
   "display_name": "Python 3 (ipykernel)",
   "language": "python",
   "name": "python3"
  },
  "language_info": {
   "codemirror_mode": {
    "name": "ipython",
    "version": 3
   },
   "file_extension": ".py",
   "mimetype": "text/x-python",
   "name": "python",
   "nbconvert_exporter": "python",
   "pygments_lexer": "ipython3",
   "version": "3.8.13"
  },
  "toc": {
   "base_numbering": 1,
   "nav_menu": {},
   "number_sections": true,
   "sideBar": true,
   "skip_h1_title": false,
   "title_cell": "Table of Contents",
   "title_sidebar": "Contents",
   "toc_cell": false,
   "toc_position": {},
   "toc_section_display": true,
   "toc_window_display": false
  }
 },
 "nbformat": 4,
 "nbformat_minor": 5
}
