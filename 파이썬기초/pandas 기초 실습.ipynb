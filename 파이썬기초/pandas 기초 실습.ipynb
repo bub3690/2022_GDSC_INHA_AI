{
 "cells": [
  {
   "cell_type": "markdown",
   "id": "8ca5ceb1",
   "metadata": {},
   "source": [
    "# 판다스 기초 실습\n"
   ]
  },
  {
   "cell_type": "markdown",
   "id": "recreational-pleasure",
   "metadata": {},
   "source": [
    "## csv  파일 읽어오기"
   ]
  },
  {
   "cell_type": "code",
   "execution_count": 12,
   "id": "0a032825",
   "metadata": {},
   "outputs": [
    {
     "data": {
      "text/html": [
       "<div>\n",
       "<style scoped>\n",
       "    .dataframe tbody tr th:only-of-type {\n",
       "        vertical-align: middle;\n",
       "    }\n",
       "\n",
       "    .dataframe tbody tr th {\n",
       "        vertical-align: top;\n",
       "    }\n",
       "\n",
       "    .dataframe thead th {\n",
       "        text-align: right;\n",
       "    }\n",
       "</style>\n",
       "<table border=\"1\" class=\"dataframe\">\n",
       "  <thead>\n",
       "    <tr style=\"text-align: right;\">\n",
       "      <th></th>\n",
       "      <th>house</th>\n",
       "      <th>fried</th>\n",
       "      <th>yangnyum</th>\n",
       "      <th>rate</th>\n",
       "    </tr>\n",
       "  </thead>\n",
       "  <tbody>\n",
       "    <tr>\n",
       "      <th>0</th>\n",
       "      <td>bbq</td>\n",
       "      <td>10000</td>\n",
       "      <td>12000</td>\n",
       "      <td>5</td>\n",
       "    </tr>\n",
       "    <tr>\n",
       "      <th>1</th>\n",
       "      <td>kfc</td>\n",
       "      <td>12000</td>\n",
       "      <td>13500</td>\n",
       "      <td>4</td>\n",
       "    </tr>\n",
       "    <tr>\n",
       "      <th>2</th>\n",
       "      <td>nene</td>\n",
       "      <td>14000</td>\n",
       "      <td>16500</td>\n",
       "      <td>3</td>\n",
       "    </tr>\n",
       "    <tr>\n",
       "      <th>3</th>\n",
       "      <td>ddangddang</td>\n",
       "      <td>15600</td>\n",
       "      <td>19600</td>\n",
       "      <td>2</td>\n",
       "    </tr>\n",
       "    <tr>\n",
       "      <th>4</th>\n",
       "      <td>kyochon</td>\n",
       "      <td>20000</td>\n",
       "      <td>22600</td>\n",
       "      <td>1</td>\n",
       "    </tr>\n",
       "  </tbody>\n",
       "</table>\n",
       "</div>"
      ],
      "text/plain": [
       "        house  fried  yangnyum  rate\n",
       "0         bbq  10000     12000     5\n",
       "1         kfc  12000     13500     4\n",
       "2        nene  14000     16500     3\n",
       "3  ddangddang  15600     19600     2\n",
       "4     kyochon  20000     22600     1"
      ]
     },
     "execution_count": 12,
     "metadata": {},
     "output_type": "execute_result"
    }
   ],
   "source": [
    "\n",
    "import pandas as pd\n",
    "\n",
    "data_frame=pd.read_csv(\"./연습.csv\")\n",
    "\n",
    "data_frame\n",
    "# 이런 형태를 판다스 데이터 프레임이라 한다.\n",
    "\n",
    "#예측 문제라 생각하면, 프라이드가격과 양넘 가격으로 별점 예측하는 문제가 된다."
   ]
  },
  {
   "cell_type": "code",
   "execution_count": 13,
   "id": "congressional-swing",
   "metadata": {},
   "outputs": [
    {
     "data": {
      "text/html": [
       "<div>\n",
       "<style scoped>\n",
       "    .dataframe tbody tr th:only-of-type {\n",
       "        vertical-align: middle;\n",
       "    }\n",
       "\n",
       "    .dataframe tbody tr th {\n",
       "        vertical-align: top;\n",
       "    }\n",
       "\n",
       "    .dataframe thead th {\n",
       "        text-align: right;\n",
       "    }\n",
       "</style>\n",
       "<table border=\"1\" class=\"dataframe\">\n",
       "  <thead>\n",
       "    <tr style=\"text-align: right;\">\n",
       "      <th></th>\n",
       "      <th>house</th>\n",
       "      <th>fried</th>\n",
       "      <th>yangnyum</th>\n",
       "      <th>rate</th>\n",
       "    </tr>\n",
       "  </thead>\n",
       "  <tbody>\n",
       "    <tr>\n",
       "      <th>0</th>\n",
       "      <td>bbq</td>\n",
       "      <td>10000</td>\n",
       "      <td>12000</td>\n",
       "      <td>5</td>\n",
       "    </tr>\n",
       "    <tr>\n",
       "      <th>1</th>\n",
       "      <td>kfc</td>\n",
       "      <td>12000</td>\n",
       "      <td>13500</td>\n",
       "      <td>4</td>\n",
       "    </tr>\n",
       "    <tr>\n",
       "      <th>2</th>\n",
       "      <td>nene</td>\n",
       "      <td>14000</td>\n",
       "      <td>16500</td>\n",
       "      <td>3</td>\n",
       "    </tr>\n",
       "    <tr>\n",
       "      <th>3</th>\n",
       "      <td>ddangddang</td>\n",
       "      <td>15600</td>\n",
       "      <td>19600</td>\n",
       "      <td>2</td>\n",
       "    </tr>\n",
       "    <tr>\n",
       "      <th>4</th>\n",
       "      <td>kyochon</td>\n",
       "      <td>20000</td>\n",
       "      <td>22600</td>\n",
       "      <td>1</td>\n",
       "    </tr>\n",
       "  </tbody>\n",
       "</table>\n",
       "</div>"
      ],
      "text/plain": [
       "        house  fried  yangnyum  rate\n",
       "0         bbq  10000     12000     5\n",
       "1         kfc  12000     13500     4\n",
       "2        nene  14000     16500     3\n",
       "3  ddangddang  15600     19600     2\n",
       "4     kyochon  20000     22600     1"
      ]
     },
     "execution_count": 13,
     "metadata": {},
     "output_type": "execute_result"
    }
   ],
   "source": [
    "data_frame=pd.read_csv(\"./연습.csv\")\n",
    "data_frame"
   ]
  },
  {
   "cell_type": "markdown",
   "id": "injured-allergy",
   "metadata": {},
   "source": [
    "## 컬럼 조회"
   ]
  },
  {
   "cell_type": "code",
   "execution_count": 14,
   "id": "9cfcb8bf",
   "metadata": {},
   "outputs": [
    {
     "data": {
      "text/plain": [
       "0    10000\n",
       "1    12000\n",
       "2    14000\n",
       "3    15600\n",
       "4    20000\n",
       "Name: fried, dtype: int64"
      ]
     },
     "execution_count": 14,
     "metadata": {},
     "output_type": "execute_result"
    }
   ],
   "source": [
    "data_frame['fried']\n",
    "#이렇게 조회 된것을 판다스 시리즈라 한다."
   ]
  },
  {
   "cell_type": "code",
   "execution_count": 15,
   "id": "794f6551",
   "metadata": {},
   "outputs": [
    {
     "data": {
      "text/plain": [
       "0    12000\n",
       "1    13500\n",
       "2    16500\n",
       "3    19600\n",
       "4    22600\n",
       "Name: yangnyum, dtype: int64"
      ]
     },
     "execution_count": 15,
     "metadata": {},
     "output_type": "execute_result"
    }
   ],
   "source": [
    "data_frame['yangnyum']"
   ]
  },
  {
   "cell_type": "code",
   "execution_count": 16,
   "id": "marine-limit",
   "metadata": {
    "scrolled": true
   },
   "outputs": [
    {
     "data": {
      "text/plain": [
       "0    5\n",
       "1    4\n",
       "2    3\n",
       "3    2\n",
       "4    1\n",
       "Name: rate, dtype: int64"
      ]
     },
     "execution_count": 16,
     "metadata": {},
     "output_type": "execute_result"
    }
   ],
   "source": [
    "data_frame['rate']"
   ]
  },
  {
   "cell_type": "markdown",
   "id": "cross-stomach",
   "metadata": {},
   "source": [
    "## row 조회"
   ]
  },
  {
   "cell_type": "code",
   "execution_count": 17,
   "id": "clear-science",
   "metadata": {},
   "outputs": [
    {
     "data": {
      "text/plain": [
       "house         bbq\n",
       "fried       10000\n",
       "yangnyum    12000\n",
       "rate            5\n",
       "Name: 0, dtype: object"
      ]
     },
     "execution_count": 17,
     "metadata": {},
     "output_type": "execute_result"
    }
   ],
   "source": [
    "data_frame.loc[0,:]"
   ]
  },
  {
   "cell_type": "code",
   "execution_count": 18,
   "id": "committed-settlement",
   "metadata": {},
   "outputs": [
    {
     "data": {
      "text/plain": [
       "house         kfc\n",
       "fried       12000\n",
       "yangnyum    13500\n",
       "rate            4\n",
       "Name: 1, dtype: object"
      ]
     },
     "execution_count": 18,
     "metadata": {},
     "output_type": "execute_result"
    }
   ],
   "source": [
    "data_frame.loc[1,:]"
   ]
  },
  {
   "cell_type": "markdown",
   "id": "general-aberdeen",
   "metadata": {},
   "source": [
    "## 상관계수"
   ]
  },
  {
   "cell_type": "code",
   "execution_count": 19,
   "id": "desperate-pontiac",
   "metadata": {},
   "outputs": [
    {
     "data": {
      "text/html": [
       "<div>\n",
       "<style scoped>\n",
       "    .dataframe tbody tr th:only-of-type {\n",
       "        vertical-align: middle;\n",
       "    }\n",
       "\n",
       "    .dataframe tbody tr th {\n",
       "        vertical-align: top;\n",
       "    }\n",
       "\n",
       "    .dataframe thead th {\n",
       "        text-align: right;\n",
       "    }\n",
       "</style>\n",
       "<table border=\"1\" class=\"dataframe\">\n",
       "  <thead>\n",
       "    <tr style=\"text-align: right;\">\n",
       "      <th></th>\n",
       "      <th>fried</th>\n",
       "      <th>yangnyum</th>\n",
       "      <th>rate</th>\n",
       "    </tr>\n",
       "  </thead>\n",
       "  <tbody>\n",
       "    <tr>\n",
       "      <th>fried</th>\n",
       "      <td>1.000000</td>\n",
       "      <td>0.982146</td>\n",
       "      <td>-0.979531</td>\n",
       "    </tr>\n",
       "    <tr>\n",
       "      <th>yangnyum</th>\n",
       "      <td>0.982146</td>\n",
       "      <td>1.000000</td>\n",
       "      <td>-0.993601</td>\n",
       "    </tr>\n",
       "    <tr>\n",
       "      <th>rate</th>\n",
       "      <td>-0.979531</td>\n",
       "      <td>-0.993601</td>\n",
       "      <td>1.000000</td>\n",
       "    </tr>\n",
       "  </tbody>\n",
       "</table>\n",
       "</div>"
      ],
      "text/plain": [
       "             fried  yangnyum      rate\n",
       "fried     1.000000  0.982146 -0.979531\n",
       "yangnyum  0.982146  1.000000 -0.993601\n",
       "rate     -0.979531 -0.993601  1.000000"
      ]
     },
     "execution_count": 19,
     "metadata": {},
     "output_type": "execute_result"
    }
   ],
   "source": [
    "data_frame.corr()"
   ]
  },
  {
   "cell_type": "markdown",
   "id": "modified-retirement",
   "metadata": {},
   "source": [
    "## 조회와 수정"
   ]
  },
  {
   "cell_type": "code",
   "execution_count": 20,
   "id": "compressed-narrative",
   "metadata": {},
   "outputs": [
    {
     "data": {
      "text/html": [
       "<div>\n",
       "<style scoped>\n",
       "    .dataframe tbody tr th:only-of-type {\n",
       "        vertical-align: middle;\n",
       "    }\n",
       "\n",
       "    .dataframe tbody tr th {\n",
       "        vertical-align: top;\n",
       "    }\n",
       "\n",
       "    .dataframe thead th {\n",
       "        text-align: right;\n",
       "    }\n",
       "</style>\n",
       "<table border=\"1\" class=\"dataframe\">\n",
       "  <thead>\n",
       "    <tr style=\"text-align: right;\">\n",
       "      <th></th>\n",
       "      <th>house</th>\n",
       "      <th>fried</th>\n",
       "      <th>yangnyum</th>\n",
       "      <th>rate</th>\n",
       "    </tr>\n",
       "  </thead>\n",
       "  <tbody>\n",
       "    <tr>\n",
       "      <th>0</th>\n",
       "      <td>bbq</td>\n",
       "      <td>10000</td>\n",
       "      <td>12000</td>\n",
       "      <td>5</td>\n",
       "    </tr>\n",
       "    <tr>\n",
       "      <th>1</th>\n",
       "      <td>kfc</td>\n",
       "      <td>10000</td>\n",
       "      <td>13500</td>\n",
       "      <td>4</td>\n",
       "    </tr>\n",
       "    <tr>\n",
       "      <th>2</th>\n",
       "      <td>nene</td>\n",
       "      <td>10000</td>\n",
       "      <td>16500</td>\n",
       "      <td>3</td>\n",
       "    </tr>\n",
       "    <tr>\n",
       "      <th>3</th>\n",
       "      <td>ddangddang</td>\n",
       "      <td>10000</td>\n",
       "      <td>19600</td>\n",
       "      <td>2</td>\n",
       "    </tr>\n",
       "    <tr>\n",
       "      <th>4</th>\n",
       "      <td>kyochon</td>\n",
       "      <td>10000</td>\n",
       "      <td>22600</td>\n",
       "      <td>1</td>\n",
       "    </tr>\n",
       "  </tbody>\n",
       "</table>\n",
       "</div>"
      ],
      "text/plain": [
       "        house  fried  yangnyum  rate\n",
       "0         bbq  10000     12000     5\n",
       "1         kfc  10000     13500     4\n",
       "2        nene  10000     16500     3\n",
       "3  ddangddang  10000     19600     2\n",
       "4     kyochon  10000     22600     1"
      ]
     },
     "execution_count": 20,
     "metadata": {},
     "output_type": "execute_result"
    }
   ],
   "source": [
    "# 문제1. 모든 치킨집 후라이드 가격을 만원으로 통일하라\n",
    "data_frame['fried']=10000\n",
    "data_frame"
   ]
  },
  {
   "cell_type": "code",
   "execution_count": 21,
   "id": "elementary-firmware",
   "metadata": {},
   "outputs": [
    {
     "data": {
      "text/html": [
       "<div>\n",
       "<style scoped>\n",
       "    .dataframe tbody tr th:only-of-type {\n",
       "        vertical-align: middle;\n",
       "    }\n",
       "\n",
       "    .dataframe tbody tr th {\n",
       "        vertical-align: top;\n",
       "    }\n",
       "\n",
       "    .dataframe thead th {\n",
       "        text-align: right;\n",
       "    }\n",
       "</style>\n",
       "<table border=\"1\" class=\"dataframe\">\n",
       "  <thead>\n",
       "    <tr style=\"text-align: right;\">\n",
       "      <th></th>\n",
       "      <th>house</th>\n",
       "      <th>fried</th>\n",
       "      <th>yangnyum</th>\n",
       "      <th>rate</th>\n",
       "    </tr>\n",
       "  </thead>\n",
       "  <tbody>\n",
       "    <tr>\n",
       "      <th>0</th>\n",
       "      <td>bbq</td>\n",
       "      <td>10000</td>\n",
       "      <td>12000</td>\n",
       "      <td>5</td>\n",
       "    </tr>\n",
       "    <tr>\n",
       "      <th>1</th>\n",
       "      <td>kfc</td>\n",
       "      <td>10000</td>\n",
       "      <td>13500</td>\n",
       "      <td>4</td>\n",
       "    </tr>\n",
       "    <tr>\n",
       "      <th>2</th>\n",
       "      <td>nene</td>\n",
       "      <td>10000</td>\n",
       "      <td>16500</td>\n",
       "      <td>3</td>\n",
       "    </tr>\n",
       "    <tr>\n",
       "      <th>3</th>\n",
       "      <td>ddangddang</td>\n",
       "      <td>10000</td>\n",
       "      <td>19600</td>\n",
       "      <td>2</td>\n",
       "    </tr>\n",
       "    <tr>\n",
       "      <th>4</th>\n",
       "      <td>kyochon</td>\n",
       "      <td>10000</td>\n",
       "      <td>22600</td>\n",
       "      <td>1</td>\n",
       "    </tr>\n",
       "  </tbody>\n",
       "</table>\n",
       "</div>"
      ],
      "text/plain": [
       "        house  fried  yangnyum  rate\n",
       "0         bbq  10000     12000     5\n",
       "1         kfc  10000     13500     4\n",
       "2        nene  10000     16500     3\n",
       "3  ddangddang  10000     19600     2\n",
       "4     kyochon  10000     22600     1"
      ]
     },
     "execution_count": 21,
     "metadata": {},
     "output_type": "execute_result"
    }
   ],
   "source": [
    "\n",
    "data_frame2=data_frame.copy()\n",
    "data_frame2"
   ]
  },
  {
   "cell_type": "code",
   "execution_count": 22,
   "id": "divided-costume",
   "metadata": {},
   "outputs": [
    {
     "data": {
      "text/plain": [
       "0    False\n",
       "1    False\n",
       "2    False\n",
       "3    False\n",
       "4    False\n",
       "Name: fried, dtype: bool"
      ]
     },
     "execution_count": 22,
     "metadata": {},
     "output_type": "execute_result"
    }
   ],
   "source": [
    "# 문제2. 후라이드 값이 1만 5천원 이상인 지점을 찾아서, 별점 1점 깎아라\n",
    "data_frame['fried']>=15000\n",
    "\n"
   ]
  },
  {
   "cell_type": "code",
   "execution_count": 23,
   "id": "stopped-sending",
   "metadata": {},
   "outputs": [
    {
     "data": {
      "text/html": [
       "<div>\n",
       "<style scoped>\n",
       "    .dataframe tbody tr th:only-of-type {\n",
       "        vertical-align: middle;\n",
       "    }\n",
       "\n",
       "    .dataframe tbody tr th {\n",
       "        vertical-align: top;\n",
       "    }\n",
       "\n",
       "    .dataframe thead th {\n",
       "        text-align: right;\n",
       "    }\n",
       "</style>\n",
       "<table border=\"1\" class=\"dataframe\">\n",
       "  <thead>\n",
       "    <tr style=\"text-align: right;\">\n",
       "      <th></th>\n",
       "      <th>house</th>\n",
       "      <th>fried</th>\n",
       "      <th>yangnyum</th>\n",
       "      <th>rate</th>\n",
       "    </tr>\n",
       "  </thead>\n",
       "  <tbody>\n",
       "  </tbody>\n",
       "</table>\n",
       "</div>"
      ],
      "text/plain": [
       "Empty DataFrame\n",
       "Columns: [house, fried, yangnyum, rate]\n",
       "Index: []"
      ]
     },
     "execution_count": 23,
     "metadata": {},
     "output_type": "execute_result"
    }
   ],
   "source": [
    "data_frame[data_frame['fried']>=15000]"
   ]
  },
  {
   "cell_type": "code",
   "execution_count": 24,
   "id": "excellent-happening",
   "metadata": {},
   "outputs": [],
   "source": [
    "data_frame[data_frame['fried']>=15000]['rate']=data_frame[data_frame['fried']>=15000]['rate'].copy()-1\n",
    "#warning 발생한다.\n",
    "\n"
   ]
  },
  {
   "cell_type": "code",
   "execution_count": 25,
   "id": "resistant-runner",
   "metadata": {},
   "outputs": [
    {
     "data": {
      "text/html": [
       "<div>\n",
       "<style scoped>\n",
       "    .dataframe tbody tr th:only-of-type {\n",
       "        vertical-align: middle;\n",
       "    }\n",
       "\n",
       "    .dataframe tbody tr th {\n",
       "        vertical-align: top;\n",
       "    }\n",
       "\n",
       "    .dataframe thead th {\n",
       "        text-align: right;\n",
       "    }\n",
       "</style>\n",
       "<table border=\"1\" class=\"dataframe\">\n",
       "  <thead>\n",
       "    <tr style=\"text-align: right;\">\n",
       "      <th></th>\n",
       "      <th>house</th>\n",
       "      <th>fried</th>\n",
       "      <th>yangnyum</th>\n",
       "      <th>rate</th>\n",
       "    </tr>\n",
       "  </thead>\n",
       "  <tbody>\n",
       "    <tr>\n",
       "      <th>0</th>\n",
       "      <td>bbq</td>\n",
       "      <td>10000</td>\n",
       "      <td>12000</td>\n",
       "      <td>5</td>\n",
       "    </tr>\n",
       "    <tr>\n",
       "      <th>1</th>\n",
       "      <td>kfc</td>\n",
       "      <td>10000</td>\n",
       "      <td>13500</td>\n",
       "      <td>4</td>\n",
       "    </tr>\n",
       "    <tr>\n",
       "      <th>2</th>\n",
       "      <td>nene</td>\n",
       "      <td>10000</td>\n",
       "      <td>16500</td>\n",
       "      <td>3</td>\n",
       "    </tr>\n",
       "    <tr>\n",
       "      <th>3</th>\n",
       "      <td>ddangddang</td>\n",
       "      <td>10000</td>\n",
       "      <td>19600</td>\n",
       "      <td>2</td>\n",
       "    </tr>\n",
       "    <tr>\n",
       "      <th>4</th>\n",
       "      <td>kyochon</td>\n",
       "      <td>10000</td>\n",
       "      <td>22600</td>\n",
       "      <td>1</td>\n",
       "    </tr>\n",
       "  </tbody>\n",
       "</table>\n",
       "</div>"
      ],
      "text/plain": [
       "        house  fried  yangnyum  rate\n",
       "0         bbq  10000     12000     5\n",
       "1         kfc  10000     13500     4\n",
       "2        nene  10000     16500     3\n",
       "3  ddangddang  10000     19600     2\n",
       "4     kyochon  10000     22600     1"
      ]
     },
     "execution_count": 25,
     "metadata": {},
     "output_type": "execute_result"
    }
   ],
   "source": [
    "#실제로도 데이터가 반양 안된다!\n",
    "data_frame"
   ]
  },
  {
   "cell_type": "code",
   "execution_count": 26,
   "id": "superior-scope",
   "metadata": {},
   "outputs": [
    {
     "data": {
      "text/plain": [
       "0    5\n",
       "1    4\n",
       "2    3\n",
       "3    2\n",
       "4    1\n",
       "Name: rate, dtype: int64"
      ]
     },
     "execution_count": 26,
     "metadata": {},
     "output_type": "execute_result"
    }
   ],
   "source": [
    "#where 라는 함수를 이용한다.\n",
    "#조건에 해당하지 않으면 ,바꾼다.\n",
    "#15000이하가 아니면, 감소한다.\n",
    "\n",
    "data_frame['rate'].where(data_frame['fried'] < 15000, data_frame['rate']-1)"
   ]
  },
  {
   "cell_type": "code",
   "execution_count": 27,
   "id": "japanese-spank",
   "metadata": {},
   "outputs": [],
   "source": [
    "data_frame['rate']=data_frame['rate'].where(data_frame['fried'] < 15000, data_frame['rate']-1)"
   ]
  },
  {
   "cell_type": "code",
   "execution_count": 28,
   "id": "mineral-documentation",
   "metadata": {},
   "outputs": [
    {
     "data": {
      "text/html": [
       "<div>\n",
       "<style scoped>\n",
       "    .dataframe tbody tr th:only-of-type {\n",
       "        vertical-align: middle;\n",
       "    }\n",
       "\n",
       "    .dataframe tbody tr th {\n",
       "        vertical-align: top;\n",
       "    }\n",
       "\n",
       "    .dataframe thead th {\n",
       "        text-align: right;\n",
       "    }\n",
       "</style>\n",
       "<table border=\"1\" class=\"dataframe\">\n",
       "  <thead>\n",
       "    <tr style=\"text-align: right;\">\n",
       "      <th></th>\n",
       "      <th>house</th>\n",
       "      <th>fried</th>\n",
       "      <th>yangnyum</th>\n",
       "      <th>rate</th>\n",
       "    </tr>\n",
       "  </thead>\n",
       "  <tbody>\n",
       "    <tr>\n",
       "      <th>0</th>\n",
       "      <td>bbq</td>\n",
       "      <td>10000</td>\n",
       "      <td>12000</td>\n",
       "      <td>5</td>\n",
       "    </tr>\n",
       "    <tr>\n",
       "      <th>1</th>\n",
       "      <td>kfc</td>\n",
       "      <td>10000</td>\n",
       "      <td>13500</td>\n",
       "      <td>4</td>\n",
       "    </tr>\n",
       "    <tr>\n",
       "      <th>2</th>\n",
       "      <td>nene</td>\n",
       "      <td>10000</td>\n",
       "      <td>16500</td>\n",
       "      <td>3</td>\n",
       "    </tr>\n",
       "    <tr>\n",
       "      <th>3</th>\n",
       "      <td>ddangddang</td>\n",
       "      <td>10000</td>\n",
       "      <td>19600</td>\n",
       "      <td>2</td>\n",
       "    </tr>\n",
       "    <tr>\n",
       "      <th>4</th>\n",
       "      <td>kyochon</td>\n",
       "      <td>10000</td>\n",
       "      <td>22600</td>\n",
       "      <td>1</td>\n",
       "    </tr>\n",
       "  </tbody>\n",
       "</table>\n",
       "</div>"
      ],
      "text/plain": [
       "        house  fried  yangnyum  rate\n",
       "0         bbq  10000     12000     5\n",
       "1         kfc  10000     13500     4\n",
       "2        nene  10000     16500     3\n",
       "3  ddangddang  10000     19600     2\n",
       "4     kyochon  10000     22600     1"
      ]
     },
     "execution_count": 28,
     "metadata": {},
     "output_type": "execute_result"
    }
   ],
   "source": [
    "data_frame"
   ]
  },
  {
   "cell_type": "markdown",
   "id": "particular-canadian",
   "metadata": {},
   "source": [
    "## 리스트 to 데이터 프레임"
   ]
  },
  {
   "cell_type": "code",
   "execution_count": 29,
   "id": "floppy-danish",
   "metadata": {},
   "outputs": [],
   "source": [
    "house = [\"pericana\",\"hosigi\",\"goobne\"]\n",
    "fried = [20000,15000,25000]\n",
    "yangnyum = [23000,17500,29000]\n",
    "rate = [3,4,5]\n"
   ]
  },
  {
   "cell_type": "code",
   "execution_count": 30,
   "id": "driven-center",
   "metadata": {},
   "outputs": [
    {
     "data": {
      "text/html": [
       "<div>\n",
       "<style scoped>\n",
       "    .dataframe tbody tr th:only-of-type {\n",
       "        vertical-align: middle;\n",
       "    }\n",
       "\n",
       "    .dataframe tbody tr th {\n",
       "        vertical-align: top;\n",
       "    }\n",
       "\n",
       "    .dataframe thead th {\n",
       "        text-align: right;\n",
       "    }\n",
       "</style>\n",
       "<table border=\"1\" class=\"dataframe\">\n",
       "  <thead>\n",
       "    <tr style=\"text-align: right;\">\n",
       "      <th></th>\n",
       "      <th>0</th>\n",
       "      <th>0</th>\n",
       "      <th>0</th>\n",
       "      <th>0</th>\n",
       "    </tr>\n",
       "  </thead>\n",
       "  <tbody>\n",
       "    <tr>\n",
       "      <th>0</th>\n",
       "      <td>pericana</td>\n",
       "      <td>20000</td>\n",
       "      <td>23000</td>\n",
       "      <td>3</td>\n",
       "    </tr>\n",
       "    <tr>\n",
       "      <th>1</th>\n",
       "      <td>hosigi</td>\n",
       "      <td>15000</td>\n",
       "      <td>17500</td>\n",
       "      <td>4</td>\n",
       "    </tr>\n",
       "    <tr>\n",
       "      <th>2</th>\n",
       "      <td>goobne</td>\n",
       "      <td>25000</td>\n",
       "      <td>29000</td>\n",
       "      <td>5</td>\n",
       "    </tr>\n",
       "  </tbody>\n",
       "</table>\n",
       "</div>"
      ],
      "text/plain": [
       "          0      0      0  0\n",
       "0  pericana  20000  23000  3\n",
       "1    hosigi  15000  17500  4\n",
       "2    goobne  25000  29000  5"
      ]
     },
     "execution_count": 30,
     "metadata": {},
     "output_type": "execute_result"
    }
   ],
   "source": [
    "# 각 리스트를 데이터프레임으로 만들고 옆으로 붙이는 방식\n",
    "pd.concat([\n",
    "        pd.DataFrame(house),\n",
    "        pd.DataFrame(fried),\n",
    "        pd.DataFrame(yangnyum),\n",
    "        pd.DataFrame(rate)],axis=1)\n",
    "\n",
    "\n",
    "\n"
   ]
  },
  {
   "cell_type": "code",
   "execution_count": 31,
   "id": "specific-motorcycle",
   "metadata": {},
   "outputs": [
    {
     "data": {
      "text/html": [
       "<div>\n",
       "<style scoped>\n",
       "    .dataframe tbody tr th:only-of-type {\n",
       "        vertical-align: middle;\n",
       "    }\n",
       "\n",
       "    .dataframe tbody tr th {\n",
       "        vertical-align: top;\n",
       "    }\n",
       "\n",
       "    .dataframe thead th {\n",
       "        text-align: right;\n",
       "    }\n",
       "</style>\n",
       "<table border=\"1\" class=\"dataframe\">\n",
       "  <thead>\n",
       "    <tr style=\"text-align: right;\">\n",
       "      <th></th>\n",
       "      <th>house</th>\n",
       "      <th>fried</th>\n",
       "      <th>yangnyum</th>\n",
       "      <th>rate</th>\n",
       "    </tr>\n",
       "  </thead>\n",
       "  <tbody>\n",
       "    <tr>\n",
       "      <th>0</th>\n",
       "      <td>pericana</td>\n",
       "      <td>20000</td>\n",
       "      <td>23000</td>\n",
       "      <td>3</td>\n",
       "    </tr>\n",
       "    <tr>\n",
       "      <th>1</th>\n",
       "      <td>hosigi</td>\n",
       "      <td>15000</td>\n",
       "      <td>17500</td>\n",
       "      <td>4</td>\n",
       "    </tr>\n",
       "    <tr>\n",
       "      <th>2</th>\n",
       "      <td>goobne</td>\n",
       "      <td>25000</td>\n",
       "      <td>29000</td>\n",
       "      <td>5</td>\n",
       "    </tr>\n",
       "  </tbody>\n",
       "</table>\n",
       "</div>"
      ],
      "text/plain": [
       "      house  fried  yangnyum  rate\n",
       "0  pericana  20000     23000     3\n",
       "1    hosigi  15000     17500     4\n",
       "2    goobne  25000     29000     5"
      ]
     },
     "execution_count": 31,
     "metadata": {},
     "output_type": "execute_result"
    }
   ],
   "source": [
    "# 각 리스트를 데이터프레임으로 만들고 옆으로 붙이는 방식\n",
    "df2=pd.concat([\n",
    "        pd.DataFrame(house),\n",
    "        pd.DataFrame(fried),\n",
    "        pd.DataFrame(yangnyum),\n",
    "        pd.DataFrame(rate)],axis=1)\n",
    "df2.columns=['house','fried','yangnyum','rate'] #컬럼이름 지정해주기\n",
    "df2"
   ]
  },
  {
   "cell_type": "markdown",
   "id": "interested-simple",
   "metadata": {},
   "source": [
    "## 데이터 프레임 출력"
   ]
  },
  {
   "cell_type": "code",
   "execution_count": 32,
   "id": "relative-measurement",
   "metadata": {},
   "outputs": [],
   "source": [
    "df2.to_csv(\"./연습2.csv\",index=False)"
   ]
  },
  {
   "cell_type": "code",
   "execution_count": null,
   "id": "caroline-sphere",
   "metadata": {},
   "outputs": [],
   "source": []
  }
 ],
 "metadata": {
  "kernelspec": {
   "display_name": "Python 3 (ipykernel)",
   "language": "python",
   "name": "python3"
  },
  "language_info": {
   "codemirror_mode": {
    "name": "ipython",
    "version": 3
   },
   "file_extension": ".py",
   "mimetype": "text/x-python",
   "name": "python",
   "nbconvert_exporter": "python",
   "pygments_lexer": "ipython3",
   "version": "3.8.13"
  },
  "toc": {
   "base_numbering": 1,
   "nav_menu": {},
   "number_sections": true,
   "sideBar": true,
   "skip_h1_title": false,
   "title_cell": "Table of Contents",
   "title_sidebar": "Contents",
   "toc_cell": false,
   "toc_position": {},
   "toc_section_display": true,
   "toc_window_display": false
  }
 },
 "nbformat": 4,
 "nbformat_minor": 5
}
